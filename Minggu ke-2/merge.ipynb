{
 "cells": [
  {
   "attachments": {},
   "cell_type": "markdown",
   "metadata": {},
   "source": [
    "Pastikan anda telah menginstall PyPDF2, gunakan pip install PyPDF2"
   ]
  },
  {
   "cell_type": "code",
   "execution_count": 4,
   "metadata": {},
   "outputs": [],
   "source": [
    "from PyPDF2 import PdfMerger\n",
    "\n",
    "# creating pdf merger object\n",
    "merger = PdfMerger()\n",
    "\n",
    "# adding pdfs to merger\n",
    "merger.append(\"pcd1.pdf\")\n",
    "merger.append(\"pcd2.pdf\")\n",
    "\n",
    "# writing combined pdf to a file\n",
    "with open('merged.pdf', 'wb') as f:\n",
    "    merger.write(f)"
   ]
  }
 ],
 "metadata": {
  "kernelspec": {
   "display_name": "DosenMR",
   "language": "python",
   "name": "python3"
  },
  "language_info": {
   "codemirror_mode": {
    "name": "ipython",
    "version": 3
   },
   "file_extension": ".py",
   "mimetype": "text/x-python",
   "name": "python",
   "nbconvert_exporter": "python",
   "pygments_lexer": "ipython3",
   "version": "3.10.7"
  },
  "orig_nbformat": 4,
  "vscode": {
   "interpreter": {
    "hash": "19d4e48bd998bfea8926ad530e5988ef5310a53bcab356a15aef1a002c3bb5ea"
   }
  }
 },
 "nbformat": 4,
 "nbformat_minor": 2
}
